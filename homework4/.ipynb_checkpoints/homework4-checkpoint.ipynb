{
 "cells": [
  {
   "cell_type": "markdown",
   "metadata": {},
   "source": [
    "## Практическое задание к уроку 4 \n",
    "\n",
    "## “Аналитическая геометрия” и “Графики на плоскости”"
   ]
  },
  {
   "cell_type": "markdown",
   "metadata": {},
   "source": [
    "### 1. Задание\n",
    "#### Решите уравнение \n",
    "\n",
    "$$sin(x)/x=0$$\n"
   ]
  },
  {
   "cell_type": "markdown",
   "metadata": {},
   "source": [
    "#### Решение\n",
    "\n",
    "Область допустимых значений: $x \\neq 0$\n",
    "\n",
    "Следовательно решением будут все значения, при которых выполняется система условий:\n",
    "$$\n",
    "\\begin{cases}\n",
    "sin(x) = 0 \\\\\n",
    "x \\neq 0\n",
    "\\end{cases} \\implies\n",
    "x = \\pi\\cdot n, n \\neq 0\n",
    "$$\n",
    "где n - целое число (может быть отрицательным)"
   ]
  },
  {
   "cell_type": "markdown",
   "metadata": {},
   "source": [
    "### 2. Задание\n",
    "#### Даны три прямые y=k1*x+b1, y=k2*x+b2,, y=k3*x+b3. Как узнать, пересекаются они в одной точке или нет?\n"
   ]
  },
  {
   "cell_type": "markdown",
   "metadata": {},
   "source": [
    "Если прямые пересекаются в одной точке, значит можно подобрать такие $x_0, y_0$ что будет выполняться система уравнений:"
   ]
  },
  {
   "cell_type": "markdown",
   "metadata": {},
   "source": [
    "$$\n",
    "\\begin{cases}\n",
    "y_0=k_1 x_0 + b_1 \\\\\n",
    "y_0=k_2 x_0 + b_2 \\\\\n",
    "y_0=k_3 x_0 + b_3\n",
    "\\end{cases} \n",
    "\\implies\n",
    "k_1 x_0 + b_1 = k_2 x_0 + b_2 = k_3 x_0 + b_3\n",
    "\\implies\n",
    "x_0 = \\frac{b_2 + b_3 - b_1}{k_1 - k_2 - k_3}\n",
    "\\implies\n",
    "\\begin{cases}\n",
    "y_0=k_1 \\frac{b_2 + b_3 - b_1}{k_1 - k_2 - k_3} + b_1 \\\\\n",
    "y_0=k_2 \\frac{b_2 + b_3 - b_1}{k_1 - k_2 - k_3} + b_2 \\\\\n",
    "y_0=k_3 \\frac{b_2 + b_3 - b_1}{k_1 - k_2 - k_3} + b_3\n",
    "\\end{cases}\n",
    "$$\n",
    "\n",
    "$$\n",
    "\\implies\n",
    "k_1 \\frac{b_2 + b_3 - b_1}{k_1 - k_2 - k_3} + b_1=k_2 \\frac{b_2 + b_3 - b_1}{k_1 - k_2 - k_3} + b_2=k_3 \\frac{b_2 + b_3 - b_1}{k_1 - k_2 - k_3} + b_3\n",
    "$$"
   ]
  },
  {
   "cell_type": "markdown",
   "metadata": {},
   "source": [
    "Нужно проверить выполнение этих равенств. Если они выполняются, то все прямые пересекаются в одной точке"
   ]
  },
  {
   "cell_type": "markdown",
   "metadata": {},
   "source": [
    "### 3. Задание\n",
    "#### На листе тетради «в линейку» (расстояние между линиями равно а) лежит игла (длиной b).\n",
    "#### Координаты нижней точки иглы $(х_0,у_0)$, игла лежит под углом alpha. \n",
    "#### Пересекает ли игла линию или нет?\n"
   ]
  },
  {
   "cell_type": "markdown",
   "metadata": {},
   "source": [
    "Если игла пересекает линию, то должна выполняться следующая система ограничений\n",
    "\n",
    "$$\n",
    "\\begin{cases}\n",
    "y = a \\\\\n",
    "y = y_0 + bsin(alpha)\n",
    "\\end{cases}\n",
    "$$\n",
    "\n",
    "если выбрать такую систему координат, что y = 0 совпадает с y = a, то получим допустимый диапазон для значений координаты y иглы (0, a). Тогда становится очевидным: что игла пересечет линию при выполнении следующих условий:\n",
    "\n",
    "$$\n",
    "\\begin{cases}\n",
    "y = 0 \\\\\n",
    "a <= bsin(alpha)\n",
    "\\end{cases}\n",
    "$$"
   ]
  },
  {
   "cell_type": "markdown",
   "metadata": {},
   "source": [
    "### Задание 17.6.2\n",
    "\n",
    "Найти угол alpha между прямыми $4y-3x+12=0$ и $7y+x-14=0$"
   ]
  },
  {
   "cell_type": "markdown",
   "metadata": {},
   "source": [
    "#### Решение"
   ]
  },
  {
   "cell_type": "markdown",
   "metadata": {},
   "source": [
    "$$\n",
    "\\begin{cases}\n",
    "4y - 3x + 12 = 0 \\\\\n",
    "7y + x - 14 = 0\n",
    "\\end{cases}\n",
    "\\implies\n",
    "\\begin{cases}\n",
    "y - \\frac{3}{4}x + 3 = 0 \\\\\n",
    "y + \\frac{1}{7}x - 2 = 0\n",
    "\\end{cases}\n",
    "\\implies\n",
    "\\begin{cases}\n",
    "y = \\frac{3}{4}x - 3 \\\\\n",
    "y = -\\frac{1}{7}x + 2\n",
    "\\end{cases}\n",
    "\\implies\n",
    "\\begin{cases}\n",
    "tg(\\alpha - \\beta)=\\frac{tg(\\alpha)-tg(\\beta)}{1+tg(\\alpha)tg(\\beta)} \\\\\n",
    "tg(\\alpha - \\beta)=\\frac{\\frac{3}{4} + \\frac{1}{7}}{1 - \\frac{3}{28}}\n",
    "\\end{cases}\n",
    "\\implies\n",
    "\\frac{\\frac{25}{28}}{\\frac{25}{28}}=1\n",
    "\\implies\n",
    "\\alpha - \\beta = \\frac{\\pi}{2}\n",
    "$$"
   ]
  },
  {
   "cell_type": "markdown",
   "metadata": {},
   "source": [
    "### Задание 17.6.2\n",
    "\n",
    "Найти угол alpha между прямыми $x=\\sqrt{2}, x=-\\sqrt{3}$"
   ]
  },
  {
   "cell_type": "markdown",
   "metadata": {},
   "source": [
    "#### Решение"
   ]
  },
  {
   "cell_type": "markdown",
   "metadata": {},
   "source": [
    "Очевидно: что прямые не пересекаются: поэтому угол должен быть равен $0$\n",
    "$$\n",
    "\\begin{cases}\n",
    "tg(\\alpha - \\beta)=\\frac{tg(\\alpha)-tg(\\beta)}{1+tg(\\alpha)tg(\\beta)} \\\\\n",
    "tg(\\alpha - \\beta)=\\frac{1 - 1}{1 + 1} = 0\n",
    "\\end{cases}\n",
    "\\implies\n",
    "\\alpha - \\beta = 0\n",
    "$$"
   ]
  },
  {
   "cell_type": "markdown",
   "metadata": {},
   "source": [
    "### Задание\n",
    "Выяснить тип кривых второго порядка: порожденных следующими уравнениями"
   ]
  },
  {
   "cell_type": "markdown",
   "metadata": {},
   "source": [
    "$17.6.5: y^2-2x-2y-5=0$\n",
    "\n",
    "#### Решение:\n",
    "\n",
    "$\n",
    "y^2-2y+4-2x-9=0\n",
    "\\implies\n",
    "\\begin{cases}\n",
    "(y-2)^2=2x+9 \\\\\n",
    "y^2 = 2px\n",
    "\\end{cases}\n",
    "$\n",
    "\n",
    "Это уравнение параболы"
   ]
  },
  {
   "cell_type": "markdown",
   "metadata": {},
   "source": [
    "$17.6.6: 3x^2+5y^2+12x-30y+42=0$"
   ]
  },
  {
   "cell_type": "markdown",
   "metadata": {},
   "source": [
    "#### Решение:\n",
    "\n",
    "$$\n",
    "3x^2+5y^2+12x-30y+42=0\n",
    "\\implies\n",
    "3(x+4)^2+5y^2-30y+26=0\n",
    "\\implies\n",
    "3(x+4)^2+5(y^2-6y+ 36)-10=0\n",
    "\\implies\n",
    "$$\n",
    "$$\\frac{(x+4)^2}{\\frac{10}{3}}+\\frac{(y-6)^2}{2}=1$$\n",
    "\n",
    "\n",
    "Это уравнение эллипса"
   ]
  },
  {
   "cell_type": "markdown",
   "metadata": {},
   "source": [
    "$17.6.7: 2x^2-y^2+6y-7=0$\n",
    "\n",
    "#### Решение:\n",
    "\n",
    "$$\n",
    "2x^2-(y^2-6y+36)+36-7=0\n",
    "2x^2-(y-6)^2=-29\n",
    "\\implies\n",
    "-\\frac{x^2}{\\frac{29}{2}}+\\frac{(y-6)^2}{29} = 1\n",
    "$$\n",
    "\n",
    "Это уравнение гиперболы"
   ]
  },
  {
   "cell_type": "markdown",
   "metadata": {},
   "source": [
    "$17.6.8: 2x^2-3y^2-28x-42y-55=0$\n",
    "\n",
    "$$\n",
    "2(x - 14)^2 - 196 -3y^2-42y-55=0\n",
    "\\implies\n",
    "2(x - 14)^2 -3(y+14)^2=55\n",
    "\\implies\n",
    "\\frac{(x - 14)^2}{\\frac{55}{2}} - \\frac{(y+14)^2}{\\frac{55}{3}} = 1\n",
    "$$\n",
    "\n",
    "Это уравнение гиперболы"
   ]
  }
 ],
 "metadata": {
  "kernelspec": {
   "display_name": "Python 3",
   "language": "python",
   "name": "python3"
  },
  "language_info": {
   "codemirror_mode": {
    "name": "ipython",
    "version": 3
   },
   "file_extension": ".py",
   "mimetype": "text/x-python",
   "name": "python",
   "nbconvert_exporter": "python",
   "pygments_lexer": "ipython3",
   "version": "3.8.2"
  }
 },
 "nbformat": 4,
 "nbformat_minor": 4
}
