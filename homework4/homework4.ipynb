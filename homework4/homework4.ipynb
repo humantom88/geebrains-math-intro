{
 "cells": [
  {
   "cell_type": "markdown",
   "metadata": {},
   "source": [
    "## Практическое задание к уроку 4 \n",
    "\n",
    "## “Аналитическая геометрия” и “Графики на плоскости”"
   ]
  },
  {
   "cell_type": "markdown",
   "metadata": {},
   "source": [
    "### 1. Задание\n",
    "#### Решите уравнение \n",
    "\n",
    "$$sin(x)/x=0$$\n"
   ]
  },
  {
   "cell_type": "markdown",
   "metadata": {},
   "source": [
    "#### Решение\n",
    "\n",
    "Область допустимых значений: $x \\neq 0$\n",
    "\n",
    "Следовательно решением будут все значения, при которых выполняется система условий:\n",
    "$$\n",
    "\\begin{cases}\n",
    "sin(x) = 0 \\\\\n",
    "x \\neq 0\n",
    "\\end{cases} \\implies\n",
    "x = \\pi\\cdot n, n \\neq 0\n",
    "$$\n",
    "где n - целое число (может быть отрицательным)"
   ]
  },
  {
   "cell_type": "markdown",
   "metadata": {},
   "source": [
    "### 2. Задание\n",
    "#### Даны три прямые y=k1*x+b1, y=k2*x+b2,, y=k3*x+b3. Как узнать, пересекаются они в одной точке или нет?\n"
   ]
  },
  {
   "cell_type": "markdown",
   "metadata": {},
   "source": [
    "Если прямые пересекаются в одной точке, значит можно подобрать такие $x_0, y_0$ что будет выполняться система уравнений:"
   ]
  },
  {
   "cell_type": "markdown",
   "metadata": {},
   "source": [
    "$$\n",
    "\\begin{cases}\n",
    "y_0=k_1 x_0 + b_1 \\\\\n",
    "y_0=k_2 x_0 + b_2 \\\\\n",
    "y_0=k_3 x_0 + b_3\n",
    "\\end{cases} \n",
    "\\implies\n",
    "k_1 x_0 + b_1 = k_2 x_0 + b_2 = k_3 x_0 + b_3\n",
    "\\implies\n",
    "x_0 = \\frac{b_2 + b_3 - b_1}{k_1 - k_2 - k_3}\n",
    "\\implies\n",
    "\\begin{cases}\n",
    "y_0=k_1 \\frac{b_2 + b_3 - b_1}{k_1 - k_2 - k_3} + b_1 \\\\\n",
    "y_0=k_2 \\frac{b_2 + b_3 - b_1}{k_1 - k_2 - k_3} + b_2 \\\\\n",
    "y_0=k_3 \\frac{b_2 + b_3 - b_1}{k_1 - k_2 - k_3} + b_3\n",
    "\\end{cases}\n",
    "$$\n",
    "\n",
    "$$\n",
    "\\implies\n",
    "k_1 \\frac{b_2 + b_3 - b_1}{k_1 - k_2 - k_3} + b_1=k_2 \\frac{b_2 + b_3 - b_1}{k_1 - k_2 - k_3} + b_2=k_3 \\frac{b_2 + b_3 - b_1}{k_1 - k_2 - k_3} + b_3\n",
    "$$"
   ]
  },
  {
   "cell_type": "markdown",
   "metadata": {},
   "source": [
    "Нужно проверить выполнение этих равенств. Если они выполняются, то все прямые пересекаются в одной точке"
   ]
  },
  {
   "cell_type": "markdown",
   "metadata": {},
   "source": [
    "### 3. Задание\n",
    "#### На листе тетради «в линейку» (расстояние между линиями равно а) лежит игла (длиной b).\n",
    "#### Координаты нижней точки иглы $(х_0,у_0)$, игла лежит под углом alpha. \n",
    "#### Пересекает ли игла линию или нет?\n"
   ]
  },
  {
   "cell_type": "markdown",
   "metadata": {},
   "source": [
    "Если игла пересекает линию, то должна выполняться следующая система ограничений\n",
    "\n",
    "$$\n",
    "\\begin{cases}\n",
    "y = a \\\\\n",
    "y = y_0 + bsin(alpha)\n",
    "\\end{cases}\n",
    "\\implies\n",
    "\\begin{cases}\n",
    "y_0 < a - bsin(alpha) \\\\\n",
    "y_0 > - bsin(alpha)\n",
    "\\end{cases}\n",
    "$$"
   ]
  },
  {
   "cell_type": "markdown",
   "metadata": {},
   "source": [
    "Угол между прямыми будет равен тангенсу alpha = tg(alpha)"
   ]
  },
  {
   "cell_type": "code",
   "execution_count": null,
   "metadata": {},
   "outputs": [],
   "source": [
    "\n"
   ]
  }
 ],
 "metadata": {
  "kernelspec": {
   "display_name": "Python 3",
   "language": "python",
   "name": "python3"
  },
  "language_info": {
   "codemirror_mode": {
    "name": "ipython",
    "version": 3
   },
   "file_extension": ".py",
   "mimetype": "text/x-python",
   "name": "python",
   "nbconvert_exporter": "python",
   "pygments_lexer": "ipython3",
   "version": "3.7.3"
  }
 },
 "nbformat": 4,
 "nbformat_minor": 4
}
