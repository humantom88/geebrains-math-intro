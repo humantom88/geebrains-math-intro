{
 "cells": [
  {
   "cell_type": "markdown",
   "metadata": {},
   "source": [
    "## Практическое задание по теме \"Введение в линейную алгебру\""
   ]
  },
  {
   "cell_type": "markdown",
   "metadata": {},
   "source": [
    "### Задание 5.1.\n",
    "\n",
    "Вектор – это частный случай матрицы 1хN и Nх1. Повторите материал для векторов, уделяя особое внимание умножению A∙B.\n",
    "Вычислите, по возможности не используя программирование: $(5E)^{-1}$ где Е – единичная матрица размера 5х5."
   ]
  },
  {
   "cell_type": "markdown",
   "metadata": {},
   "source": [
    "#### Повтор материала\n",
    "\n",
    "$$\n",
    " \\begin{bmatrix}\n",
    "  1 & 2 & 3 \\\\\n",
    "  4 & 0 & 6 \\\\\n",
    "  7 & 8 & 9\n",
    " \\end{bmatrix}\n",
    "+\n",
    " \\begin{bmatrix}\n",
    "  1 & 2 & 9 \\\\\n",
    "  3 & 1 & 5 \\\\\n",
    "  3 & 2 & 8\n",
    " \\end{bmatrix}\n",
    "=\n",
    " \\begin{bmatrix}\n",
    "  2 & 4 & 12 \\\\\n",
    "  7 & 1 & 11 \\\\\n",
    "  10 & 10 & 17\n",
    " \\end{bmatrix}\n",
    "$$\n",
    "\n",
    "$$\n",
    " \\begin{bmatrix}\n",
    "  1 & 2 & 3 \\\\\n",
    "  4 & 0 & 6 \\\\\n",
    "  7 & 8 & 9\n",
    " \\end{bmatrix}\n",
    "-\n",
    " \\begin{bmatrix}\n",
    "  1 & 2 & 9 \\\\\n",
    "  3 & 1 & 5 \\\\\n",
    "  3 & 2 & 8\n",
    " \\end{bmatrix}\n",
    "=\n",
    " \\begin{bmatrix}\n",
    "  0 & 0 & -6 \\\\\n",
    "  1 & -1 & 1 \\\\\n",
    "  4 & 6 & 1\n",
    " \\end{bmatrix}\n",
    "$$\n",
    "\n",
    "$$\n",
    " \\begin{bmatrix}\n",
    "  1 & 2 \\\\\n",
    "  4 & 0 \\\\\n",
    "  7 & 8 \n",
    " \\end{bmatrix}\n",
    "\\times\n",
    " \\begin{bmatrix}\n",
    "  1 & 2 & 9 \\\\\n",
    "  3 & 1 & 5 \n",
    " \\end{bmatrix}\n",
    "=\n",
    " \\begin{bmatrix}\n",
    "7 & 4 & 19 \\\\\n",
    "4 &\t8 & 36 \\\\\n",
    "31 & 22 & 103\n",
    " \\end{bmatrix}\n",
    "$$"
   ]
  },
  {
   "cell_type": "code",
   "execution_count": 3,
   "metadata": {},
   "outputs": [
    {
     "data": {
      "text/plain": [
       "array([[  7,   4,  19],\n",
       "       [  4,   8,  36],\n",
       "       [ 31,  22, 103]])"
      ]
     },
     "execution_count": 3,
     "metadata": {},
     "output_type": "execute_result"
    }
   ],
   "source": [
    "import numpy as np\n",
    "# Проверка\n",
    "A = np.array([[1, 2], [4, 0], [7, 8]])\n",
    "B = np.array([[1, 2, 9], [3, 1, 5]])\n",
    "np.dot(A, B)"
   ]
  },
  {
   "cell_type": "markdown",
   "metadata": {},
   "source": [
    "#### Решение\n",
    "$$\n",
    "(\n",
    "5 \\cdot\n",
    "\\begin{pmatrix}\n",
    "1 & 0 & 0 & ... & 0 \\\\\n",
    "0 & 1 & 0 & ... & 0 \\\\\n",
    "0 & 0 & 1 & ... & 0 \\\\\n",
    "... & ... & ... & ... & 0 \\\\\n",
    "0 & 0 & 0 & ... & 1 \\\\\n",
    "\\end{pmatrix}\n",
    ")^{-1}\n",
    "=\n",
    "\\begin{pmatrix}\n",
    "\\frac{1}{5} & 0 & 0 & ... & 0 \\\\\n",
    "0 & \\frac{1}{5} & 0 & ... & 0 \\\\\n",
    "0 & 0 & \\frac{1}{5} & ... & 0 \\\\\n",
    "... & ... & ... & ... & 0 \\\\\n",
    "0 & 0 & 0 & ... & \\frac{1}{5} \\\\\n",
    "\\end{pmatrix}\n",
    "$$"
   ]
  },
  {
   "cell_type": "markdown",
   "metadata": {},
   "source": [
    "### Задание 5.2\n",
    "\n",
    "Вычислите определитель:\n",
    "\n"
   ]
  },
  {
   "cell_type": "markdown",
   "metadata": {},
   "source": [
    "#### Решение"
   ]
  },
  {
   "cell_type": "markdown",
   "metadata": {},
   "source": [
    "$\n",
    "\\det{\n",
    "\\begin{bmatrix}\n",
    "1 & 2 & 3 \\\\\n",
    "4 & 0 & 6 \\\\\n",
    "7 & 8 & 9\n",
    "\\end{bmatrix}\n",
    "} =\n",
    "1 \\cdot\n",
    "\\begin{bmatrix}\n",
    "0 & 6 \\\\\n",
    "8 & 9\n",
    "\\end{bmatrix}\n",
    "- 2 \\cdot\n",
    "\\begin{bmatrix}\n",
    "4 & 6 \\\\\n",
    "7 & 9\n",
    "\\end{bmatrix}\n",
    "+ 3 \\cdot\n",
    "\\begin{bmatrix}\n",
    "4 & 0 \\\\\n",
    "7 & 8\n",
    "\\end{bmatrix}\n",
    "= - 48 - 2(36 - 42) + 96 = 12 + 96 - 48 = 60\n",
    "$"
   ]
  },
  {
   "cell_type": "markdown",
   "metadata": {},
   "source": [
    "#### Проверка"
   ]
  },
  {
   "cell_type": "code",
   "execution_count": 98,
   "metadata": {},
   "outputs": [
    {
     "data": {
      "text/plain": [
       "59.999999999999986"
      ]
     },
     "execution_count": 98,
     "metadata": {},
     "output_type": "execute_result"
    }
   ],
   "source": [
    "import numpy as np\n",
    "A = np.array([[1, 2, 3], [4, 0, 6], [7, 8, 9]])\n",
    "np.linalg.det(A)"
   ]
  },
  {
   "cell_type": "markdown",
   "metadata": {},
   "source": [
    "### Задание 5.3\n",
    "\n",
    "#### 1. Вычислите матрицу, обратную данной:"
   ]
  },
  {
   "cell_type": "markdown",
   "metadata": {},
   "source": [
    "$$\n",
    "A=\n",
    "\\begin{vmatrix}\n",
    "1 & 2 & 3 \\\\\n",
    "4 & 0 & 6 \\\\\n",
    "7 & 8 & 9\n",
    "\\end{vmatrix}\n",
    "$$"
   ]
  },
  {
   "cell_type": "markdown",
   "metadata": {},
   "source": [
    "Рассчитаем матрицу алгебраических дополнений\n",
    "\n",
    "$$\n",
    "A_{*}=\n",
    "\\begin{bmatrix}\n",
    "A_{11} & A_{12} & A_{13} \\\\\n",
    "A_{21} & A_{22} & A_{23} \\\\\n",
    "A_{31} & A_{32} & A_{33}\n",
    "\\end{bmatrix}\n",
    "=\n",
    "\\begin{vmatrix}\n",
    "-48 & -6 & 32 \\\\\n",
    "12 & -12 & 6 \\\\\n",
    "12 & 6 & -8\n",
    "\\end{vmatrix}\n",
    "$$"
   ]
  },
  {
   "cell_type": "markdown",
   "metadata": {},
   "source": [
    "Транспонированная матрица алгебраических дополнений будет иметь следующий вид\n",
    "\n",
    "$$\n",
    "A_{*}^T = \n",
    "\\begin{vmatrix}\n",
    "-48 & 12 & 12 \\\\\n",
    "-6 & -12 & 6 \\\\\n",
    "32 & 6 & -8\n",
    "\\end{vmatrix}\n",
    "$$"
   ]
  },
  {
   "cell_type": "markdown",
   "metadata": {},
   "source": [
    "Определитель матрицы будет равен\n",
    "\n",
    "$$\n",
    "\\det{A} = - 48 - 2(36 - 42) + 96 = 12 + 96 - 48 = 60\n",
    "$$"
   ]
  },
  {
   "cell_type": "markdown",
   "metadata": {},
   "source": [
    "Тогда обратная матрица будет иметь вид:\n",
    "\n",
    "$$\n",
    "A^{-1}= \\frac{A_{*}^T}{\\det{A}} = \n",
    "\\frac{1}{60}\\cdot\n",
    "\\begin{vmatrix}\n",
    "-48 & 12 & 12 \\\\\n",
    "-6 & -12 & 6 \\\\\n",
    "32 & 6 & -8\n",
    "\\end{vmatrix}\n",
    "=\n",
    "\\begin{vmatrix}\n",
    "-0.8 & 0.2 & 0.2 \\\\\n",
    "-0.1 & -0.2 & 0.1 \\\\\n",
    "\\frac{8}{15} & 0.1 & -\\frac{2}{15}\n",
    "\\end{vmatrix}\n",
    "$$"
   ]
  },
  {
   "cell_type": "markdown",
   "metadata": {},
   "source": [
    "#### Проверка"
   ]
  },
  {
   "cell_type": "code",
   "execution_count": 99,
   "metadata": {},
   "outputs": [
    {
     "data": {
      "text/plain": [
       "array([[-0.8       ,  0.1       ,  0.2       ],\n",
       "       [ 0.1       , -0.2       ,  0.1       ],\n",
       "       [ 0.53333333,  0.1       , -0.13333333]])"
      ]
     },
     "execution_count": 99,
     "metadata": {},
     "output_type": "execute_result"
    }
   ],
   "source": [
    "import numpy as np\n",
    "\n",
    "A = [[1, 2, 3], [4, 0, 6], [7, 8, 9]]\n",
    "A_inv = np.linalg.inv(A)\n",
    "A_inv"
   ]
  },
  {
   "cell_type": "markdown",
   "metadata": {},
   "source": [
    "#### 2. Приведите пример матрицы 4х4, ранг которой равен 1."
   ]
  },
  {
   "cell_type": "markdown",
   "metadata": {},
   "source": [
    "$$\n",
    "\\begin{vmatrix}\n",
    "0 & 0 & 0 & 1 \\\\\n",
    "0 & 0 & 0 & 1 \\\\\n",
    "0 & 0 & 0 & 1 \\\\\n",
    "0 & 0 & 0 & 1 \\\\\n",
    "\\end{vmatrix}\n",
    "$$"
   ]
  },
  {
   "cell_type": "code",
   "execution_count": 100,
   "metadata": {},
   "outputs": [
    {
     "data": {
      "text/plain": [
       "1"
      ]
     },
     "execution_count": 100,
     "metadata": {},
     "output_type": "execute_result"
    }
   ],
   "source": [
    "import numpy as np\n",
    "A = [[0, 0, 0, 1], [0, 0, 0, 1], [0, 0, 0, 1], [0, 0, 0, 1]]\n",
    "np.linalg.matrix_rank(A)"
   ]
  },
  {
   "cell_type": "markdown",
   "metadata": {},
   "source": [
    "### Задание 5.4\n",
    "\n",
    "Вычислите скалярное произведение двух векторов:  \n",
    "(1, 5)  и  (2, 8)"
   ]
  },
  {
   "cell_type": "markdown",
   "metadata": {},
   "source": [
    "#### Решение\n",
    "\n",
    "$$(1, 5)\\cdot(2, 8)= 1\\cdot2 + 5\\cdot8 = 42$$"
   ]
  },
  {
   "cell_type": "markdown",
   "metadata": {},
   "source": [
    "### Задание 5.5\n",
    "\n",
    "Вычислите смешанное произведение трех векторов:\n",
    "(1, 5, 0), (2, 8, 7) и (7, 1.5, 3) "
   ]
  },
  {
   "cell_type": "markdown",
   "metadata": {},
   "source": [
    "#### Решение"
   ]
  },
  {
   "cell_type": "markdown",
   "metadata": {},
   "source": [
    "$\n",
    "V =\n",
    "\\begin{vmatrix}\n",
    "1 & 5 & 0 \\\\\n",
    "2 & 8 & 7 \\\\\n",
    "7 & 1.5 & 3\n",
    "\\end{vmatrix}\n",
    "= 24 - 10.5 - 5(6 - 49) = 13.5 - 30 + 245 = 228.5\n",
    "$"
   ]
  },
  {
   "cell_type": "markdown",
   "metadata": {},
   "source": [
    "#### Проверка"
   ]
  },
  {
   "cell_type": "code",
   "execution_count": 101,
   "metadata": {},
   "outputs": [
    {
     "data": {
      "text/plain": [
       "228.5"
      ]
     },
     "execution_count": 101,
     "metadata": {},
     "output_type": "execute_result"
    }
   ],
   "source": [
    "a = np.array([1, 5, 0], float)\n",
    "b = np.array([2, 8, 7], float)\n",
    "c = np.array([7, 1.5, 3], float)\n",
    "\n",
    "v = np.cross(a, b)\n",
    "result = np.inner(v, c)\n",
    "result"
   ]
  },
  {
   "cell_type": "markdown",
   "metadata": {},
   "source": [
    "### Задания по теме линейных систем уравнений"
   ]
  },
  {
   "cell_type": "markdown",
   "metadata": {},
   "source": [
    "### Задание 1\n",
    "\n",
    "$$\n",
    "\\begin{vmatrix}\n",
    "1 & 2 & 3 \\\\\n",
    "4 & 0 & 6 \\\\\n",
    "7 & 8 & 9\n",
    "\\end{vmatrix}\n",
    "\\cdot\n",
    "X=\n",
    "\\cdot\n",
    "\\begin{vmatrix}\n",
    "12 \\\\ 2 \\\\ 1\n",
    "\\end{vmatrix}\n",
    "$$"
   ]
  },
  {
   "cell_type": "markdown",
   "metadata": {},
   "source": [
    "#### Решение"
   ]
  },
  {
   "cell_type": "markdown",
   "metadata": {},
   "source": [
    "$$\n",
    "\\begin{cases}\n",
    "x_0 + 2x_1 + 3x_2 = 12 \\\\\n",
    "4 x_0 + 6x_2 = 2 \\\\\n",
    "7x_0 + 8x_1 + 9x_2 = 1\n",
    "\\end{cases}\n",
    "\\implies\n",
    "\\begin{cases}\n",
    "x_0 + 2x_1 + 3x_2 = 12 \\\\\n",
    "x_2 = \\frac{1}{3} - \\frac{2}{3}x_0 \\\\\n",
    "7x_0 + 8x_1 + 9x_2 = 1\n",
    "\\end{cases}\n",
    "\\implies\n",
    "\\begin{cases}\n",
    "x_0 + 2x_1 + 1 - 2x_0 = 12 \\\\\n",
    "x_2 = \\frac{1}{3} - \\frac{2}{3}x_0 \\\\\n",
    "7x_0 + 8x_1 + 9x_2 = 1\n",
    "\\end{cases}\n",
    "\\implies\n",
    "\\begin{cases}\n",
    "x_1 = \\frac{11 + x_0}{2} \\\\\n",
    "x_2 = \\frac{1}{3} - \\frac{2}{3}x_0 \\\\\n",
    "7x_0 + 8x_1 + 9x_2 = 1\n",
    "\\end{cases}\n",
    "\\implies\n",
    "\\begin{cases}\n",
    "x_1 = \\frac{11 + x_0}{2} \\\\\n",
    "x_2 = \\frac{1}{3} - \\frac{2}{3}x_0 \\\\\n",
    "7x_0 + 4(11 + x_0) + 3(1 - 2x_0) = 1\n",
    "\\end{cases}\n",
    "\\implies\n",
    "\\begin{cases}\n",
    "x_1 = \\frac{11 + x_0}{2} \\\\\n",
    "x_2 = \\frac{1}{3} - \\frac{2}{3}x_0 \\\\\n",
    "x_0 = -9.2\n",
    "\\end{cases}\n",
    "\\implies\n",
    "\\begin{cases}\n",
    "x_1 = 0.9 \\\\\n",
    "x_2 = \\frac{1}{3} + \\frac{18.4}{3} = 6.47\\\\\n",
    "x_0 = -9.2\n",
    "\\end{cases}\n",
    "$$"
   ]
  },
  {
   "cell_type": "markdown",
   "metadata": {},
   "source": [
    "#### Проверка"
   ]
  },
  {
   "cell_type": "code",
   "execution_count": 102,
   "metadata": {},
   "outputs": [
    {
     "data": {
      "text/plain": [
       "array([-9.2       ,  0.9       ,  6.46666667])"
      ]
     },
     "execution_count": 102,
     "metadata": {},
     "output_type": "execute_result"
    }
   ],
   "source": [
    "A = np.array([[1, 2, 3], [4, 0, 6], [7, 8, 9]])\n",
    "B = np.array([12, 2, 1])\n",
    "np.linalg.solve(A, B)"
   ]
  },
  {
   "cell_type": "markdown",
   "metadata": {},
   "source": [
    "### Задание 2\n",
    "\n",
    "#### Найдите псевдорешение:\n",
    "$$\n",
    "\\begin{cases}\n",
    "x + 2y – z = 1 \\\\\n",
    "3x – 4y = 7 \\\\\n",
    "8x – 5y + 2z = 12 \\\\\n",
    "2x – 5z = 7 \\\\\n",
    "11x +4y – 7z = 15\n",
    "\\end{cases}\n",
    "$$"
   ]
  },
  {
   "cell_type": "markdown",
   "metadata": {},
   "source": [
    "#### Решение"
   ]
  },
  {
   "cell_type": "code",
   "execution_count": 103,
   "metadata": {},
   "outputs": [
    {
     "data": {
      "text/plain": [
       "(array([ 1.15601029, -0.889718  , -0.85029782]),\n",
       " array([0.66772534]),\n",
       " 3,\n",
       " array([14.89650167, 10.4695886 ,  2.73531577]))"
      ]
     },
     "execution_count": 103,
     "metadata": {},
     "output_type": "execute_result"
    }
   ],
   "source": [
    "A = np.array([[1, 2, -1], [3, -4, 0], [8, -5, 2], [2, -5, 0], [11, 4, -7]])\n",
    "B = np.array([1, 7, 12, 7, 15])\n",
    "np.linalg.lstsq(A, B, rcond=None)"
   ]
  },
  {
   "cell_type": "markdown",
   "metadata": {},
   "source": [
    "Получившееся псевдорешение\n",
    "\n",
    "$$\n",
    "C = [1.15601029, -0.889718  , -0.85029782]\n",
    "$$"
   ]
  },
  {
   "cell_type": "markdown",
   "metadata": {},
   "source": [
    "### Задание 3\n",
    "\n",
    "Сколько решений имеет система:\n",
    "\n",
    "$$\n",
    "\\begin{vmatrix}\n",
    "1 & 2 & 3 \\\\\n",
    "4 & 5 & 6 \\\\\n",
    "7 & 8 & 9\n",
    "\\end{vmatrix}\n",
    "\\cdot\n",
    "X=\n",
    "\\cdot\n",
    "\\begin{vmatrix}\n",
    "12 \\\\ 2 \\\\ 1\n",
    "\\end{vmatrix}\n",
    "$$\n",
    "\n",
    "Если ноль – то измените вектор правой части так, чтобы система стала совместной, и решите ее. "
   ]
  },
  {
   "cell_type": "markdown",
   "metadata": {},
   "source": [
    "#### Решение"
   ]
  },
  {
   "cell_type": "code",
   "execution_count": 104,
   "metadata": {
    "scrolled": true
   },
   "outputs": [
    {
     "data": {
      "text/plain": [
       "2"
      ]
     },
     "execution_count": 104,
     "metadata": {},
     "output_type": "execute_result"
    }
   ],
   "source": [
    "A = np.array([[1, 2, 3], [4, 5, 6], [7, 8, 9]])\n",
    "B = np.array([12, 22, 23])\n",
    "\n",
    "np.linalg.matrix_rank(A)"
   ]
  },
  {
   "cell_type": "markdown",
   "metadata": {},
   "source": [
    "Система недоопределена, т.к. ранк матрицы меньше количества неизвестных"
   ]
  },
  {
   "cell_type": "markdown",
   "metadata": {},
   "source": [
    "При выборе вектора B = $\\begin{pmatrix} 0 \\\\ 0 \\\\ 0\\end{pmatrix}$ решением системы будет начало координат"
   ]
  },
  {
   "cell_type": "markdown",
   "metadata": {},
   "source": [
    "### Задание 4\n",
    "\n",
    "Вычислите LU-разложение матрицы:\n",
    "\n",
    "$$\n",
    "\\begin{vmatrix}\n",
    "1 & 2 & 3 \\\\\n",
    "2 & 16 & 21 \\\\\n",
    "4 & 28 & 73 \n",
    "\\end{vmatrix}\n",
    "$$\n",
    "\n",
    "После этого придумайте вектор правых частей и решите полученную линейную систему трех уравнений с данной матрицей."
   ]
  },
  {
   "cell_type": "markdown",
   "metadata": {},
   "source": [
    "#### Решение"
   ]
  },
  {
   "cell_type": "code",
   "execution_count": 6,
   "metadata": {},
   "outputs": [
    {
     "data": {
      "text/plain": [
       "(array([[0., 1., 0.],\n",
       "        [0., 0., 1.],\n",
       "        [1., 0., 0.]]), array([[ 1.  ,  0.  ,  0.  ],\n",
       "        [ 0.25,  1.  ,  0.  ],\n",
       "        [ 0.5 , -0.4 ,  1.  ]]), array([[  4.  ,  28.  ,  73.  ],\n",
       "        [  0.  ,  -5.  , -15.25],\n",
       "        [  0.  ,   0.  , -21.6 ]]))"
      ]
     },
     "execution_count": 6,
     "metadata": {},
     "output_type": "execute_result"
    }
   ],
   "source": [
    "import scipy\n",
    "import scipy.linalg\n",
    "\n",
    "A = np.array([[1, 2, 3], [2, 16, 21], [4, 28, 73]])\n",
    "P, L, U = scipy.linalg.lu(A)\n",
    "P, L, U"
   ]
  },
  {
   "cell_type": "markdown",
   "metadata": {},
   "source": [
    "Составим вектор B, приняв значения переменных $x_0=x_1=x_2=1$"
   ]
  },
  {
   "cell_type": "markdown",
   "metadata": {},
   "source": [
    "$B=\\begin{pmatrix}6 \\\\ 39 \\\\ 105 \\end{pmatrix}$"
   ]
  },
  {
   "cell_type": "code",
   "execution_count": 7,
   "metadata": {},
   "outputs": [
    {
     "data": {
      "text/plain": [
       "array([1., 1., 1.])"
      ]
     },
     "execution_count": 7,
     "metadata": {},
     "output_type": "execute_result"
    }
   ],
   "source": [
    "import numpy as np\n",
    "B = np.array([6, 39, 105])\n",
    "np.linalg.solve(A, B)"
   ]
  },
  {
   "cell_type": "markdown",
   "metadata": {},
   "source": [
    "### Задание 5"
   ]
  },
  {
   "cell_type": "markdown",
   "metadata": {},
   "source": [
    "Найдите нормальное псевдорешение недоопределенной системы\n",
    "\n",
    "$$\n",
    "\\begin{cases}\n",
    "x + 2y – z = 1 \\\\\n",
    "8x – 5y + 2z = 12\n",
    "\\end{cases}\n",
    "$$\n",
    "\n",
    "Для этого определите функцию Q(x,y,z), равную норме решения, и найдите ее минимум. "
   ]
  },
  {
   "cell_type": "code",
   "execution_count": 9,
   "metadata": {},
   "outputs": [
    {
     "data": {
      "text/plain": [
       "(array([ 1.38191882, -0.18081181,  0.0202952 ]),\n",
       " array([], dtype=float64),\n",
       " 2,\n",
       " array([9.65316119, 2.41173777]))"
      ]
     },
     "execution_count": 9,
     "metadata": {},
     "output_type": "execute_result"
    }
   ],
   "source": [
    "A = np.array([[1, 2, -1], [8, -5, 2]])\n",
    "B = np.array([1, 12])\n",
    "np.linalg.lstsq(A, B, rcond=None)"
   ]
  },
  {
   "cell_type": "markdown",
   "metadata": {},
   "source": [
    "#### Решение"
   ]
  },
  {
   "cell_type": "markdown",
   "metadata": {},
   "source": [
    "$$\n",
    "\\begin{cases}\n",
    "x + 2y - 1 = z \\\\\n",
    "8x – 5y + 2z = 12\n",
    "\\end{cases}\n",
    "$$"
   ]
  },
  {
   "cell_type": "code",
   "execution_count": 16,
   "metadata": {},
   "outputs": [
    {
     "data": {
      "text/plain": [
       "<mpl_toolkits.mplot3d.art3d.Line3DCollection at 0x1288164e0>"
      ]
     },
     "execution_count": 16,
     "metadata": {},
     "output_type": "execute_result"
    },
    {
     "data": {
      "image/png": "[encoded data removed]",
      "text/plain": [
       "<Figure size 432x288 with 1 Axes>"
      ]
     },
     "metadata": {
      "needs_background": "light"
     },
     "output_type": "display_data"
    }
   ],
   "source": [
    "from matplotlib import pyplot as plt\n",
    "# Квадрат нормы\n",
    "def Q(x, y, z):\n",
    "    return (x**2 + y**2 + z**2)\n",
    "# Диапазоны\n",
    "x = np.linspace(-100, 100, 1000)\n",
    "y = np.linspace(-100, 100, 1000)\n",
    "\n",
    "X, Y = np.meshgrid(x, y)\n",
    "\n",
    "Z = Q(X, Y, x + (2*y) - 1)\n",
    "\n",
    "ax = plt.axes(projection=\"3d\")\n",
    "ax.plot_wireframe(X, Y, Z, color='green')"
   ]
  },
  {
   "cell_type": "markdown",
   "metadata": {},
   "source": [
    "### Задание 6. \n",
    "\n",
    "Найдите одно из псевдорешений вырожденной системы\n",
    "\n",
    "$$\n",
    "\\begin{bmatrix}\n",
    "1 & 2 & 3 \\\\\n",
    "4 & 5 & 6 \\\\\n",
    "7 & 8 & 9\n",
    "\\end{bmatrix} \n",
    "\\cdot\n",
    "X\n",
    "=\n",
    "\\begin{bmatrix}\n",
    "2 \\\\\n",
    "5 \\\\\n",
    "11\n",
    "\\end{bmatrix} \n",
    "$$"
   ]
  },
  {
   "cell_type": "code",
   "execution_count": 26,
   "metadata": {},
   "outputs": [
    {
     "data": {
      "text/plain": [
       "(array([ 1.25,  0.5 , -0.25]),\n",
       " array([], dtype=float64),\n",
       " 2,\n",
       " array([1.68481034e+01, 1.06836951e+00, 4.41842475e-16]))"
      ]
     },
     "execution_count": 26,
     "metadata": {},
     "output_type": "execute_result"
    }
   ],
   "source": [
    "import scipy\n",
    "import scipy.linalg\n",
    "\n",
    "A = np.array([[1, 2, 3], [4, 5, 6], [7, 8, 9]])\n",
    "B = np.array([2, 5, 11])\n",
    "\n",
    "np.linalg.lstsq(A, B, rcond=None)"
   ]
  },
  {
   "cell_type": "code",
   "execution_count": 28,
   "metadata": {},
   "outputs": [
    {
     "data": {
      "text/plain": [
       "[1.25, 0.5, -0.25]"
      ]
     },
     "execution_count": 28,
     "metadata": {},
     "output_type": "execute_result"
    }
   ],
   "source": [
    "# Решение\n",
    "[1.25,  0.5 , -0.25]"
   ]
  }
 ],
 "metadata": {
  "kernelspec": {
   "display_name": "Python 3",
   "language": "python",
   "name": "python3"
  },
  "language_info": {
   "codemirror_mode": {
    "name": "ipython",
    "version": 3
   },
   "file_extension": ".py",
   "mimetype": "text/x-python",
   "name": "python",
   "nbconvert_exporter": "python",
   "pygments_lexer": "ipython3",
   "version": "3.7.3"
  }
 },
 "nbformat": 4,
 "nbformat_minor": 4
}
