{
 "cells": [
  {
   "cell_type": "markdown",
   "metadata": {},
   "source": [
    "## Практические задания к уроку \"Введение в аналитическую геометрию\""
   ]
  },
  {
   "cell_type": "markdown",
   "metadata": {},
   "source": [
    "### 1. Задание\n",
    "\n",
    "Даны два вектора в трехмерном пространстве: (10,10,10) и (0,0,-10)\n",
    "\n",
    "Найдите их сумму. (на листочке)\n",
    "\n",
    "Напишите код на Python, реализующий расчет длины вектора, заданного его координатами. (в программе)"
   ]
  },
  {
   "cell_type": "markdown",
   "metadata": {},
   "source": [
    "#### Решение:"
   ]
  },
  {
   "cell_type": "markdown",
   "metadata": {},
   "source": [
    "$$\n",
    "\\begin{bmatrix} 10 \\\\ 10 \\\\ 10 \\end{bmatrix} +\n",
    "\\begin{bmatrix} 0 \\\\ 0 \\\\ -10 \\end{bmatrix} = \n",
    "\\begin{bmatrix} 10 \\\\ 10 \\\\ 0 \\end{bmatrix}\n",
    "$$"
   ]
  },
  {
   "cell_type": "code",
   "execution_count": null,
   "metadata": {},
   "outputs": [],
   "source": [
    "import numpy as np\n",
    "from matplotlib import pyplot as plt\n",
    "\n",
    "def vector_length(coords):\n",
    "    if len(coords) != 3:\n",
    "        raise \"This is not a vector\"\n",
    "    return np.sqrt(coords[0]**2 + coords[1]**2 + coords[2]**2)\n",
    "\n",
    "vector_length([10, 10, 10])"
   ]
  },
  {
   "cell_type": "markdown",
   "metadata": {},
   "source": [
    "### 2. Задание (на листочке)\n",
    "Почему прямые не кажутся перпендикулярными? (см.ролик)\n"
   ]
  },
  {
   "cell_type": "code",
   "execution_count": null,
   "metadata": {},
   "outputs": [],
   "source": [
    "x = np.linspace(-5, 5, 100)\n",
    "y = 3*x + 1\n",
    "y2 = (-1/3)*x + 1\n",
    "plt.plot(x, y)\n",
    "plt.plot(x, y2)\n",
    "plt.xlabel(\"x\")\n",
    "plt.ylabel(\"y\")\n",
    "plt.grid(True)"
   ]
  },
  {
   "cell_type": "markdown",
   "metadata": {},
   "source": [
    "Предположим, что угол равен 90 градусов. \n",
    "\n",
    "Тогда котангенс этого угла должен быть равен 0.\n",
    "\n",
    "Рассчитаем котангенсы для углов a (между синим графиком и осью x) и b (между оранжевым графиком и осью x).\n",
    "\n",
    "Для этого выберем 2 точки x = 0 и x = 4 и рассчитаем значения y для каждого графика в этих точках.\n",
    "$$y(0) = 1; y2(0) = 1; y(4) = 13; y2(4) = -1/3$$\n",
    "\n",
    "Рассчитаем котангенс суммы двух углов:\n",
    "$$ctg_a = 4 / 12 = 1/3; ctg_b = 4 / (-1/3) = -12$$\n",
    "$$ctg(a + b)=\\frac{-1 + \\frac{1}{3}*(-12)}{\\frac{1}{3} - 12}=\\frac{-5}{-\\frac{35}{3}}=\\frac{3}{7} \\neq 0$$\n",
    "\n",
    "Т.к. котангенс не равен нулю - угол не прямой\n",
    "\n",
    "Отрезки, заданные на графике неравнозначны (по оси y - диапазон 30, по оси x диапазон 10). \n",
    "\n",
    "Если ограничить видимый диапазон y через ylim - то прямые будут казаться перпендикулярными."
   ]
  },
  {
   "cell_type": "markdown",
   "metadata": {},
   "source": [
    "### 3. Задание (в программе)\n",
    "\n",
    "Напишите код на Python, реализующий построение графиков:\n",
    "- окружности,\n",
    "- эллипса,\n",
    "- гиперболы.\n"
   ]
  },
  {
   "cell_type": "markdown",
   "metadata": {},
   "source": [
    "#### Решение:"
   ]
  },
  {
   "cell_type": "markdown",
   "metadata": {},
   "source": [
    "Окружность"
   ]
  },
  {
   "cell_type": "code",
   "execution_count": null,
   "metadata": {},
   "outputs": [],
   "source": [
    "t = np.arange(0, 2*np.pi, 0.01)\n",
    "r = 4                          \n",
    "x = r*np.sin(t)\n",
    "y = r*np.cos(t)\n",
    "plt.plot(x, y)\n",
    "plt.xlabel(\"x\")\n",
    "plt.ylabel(\"y\")\n",
    "plt.grid(True)"
   ]
  },
  {
   "cell_type": "markdown",
   "metadata": {},
   "source": [
    "Эллипс"
   ]
  },
  {
   "cell_type": "code",
   "execution_count": null,
   "metadata": {
    "scrolled": true
   },
   "outputs": [],
   "source": [
    "t = np.arange(0, 2*np.pi, 0.01)\n",
    "r = 4                          \n",
    "x = 2*r*np.sin(t)\n",
    "y = r*np.cos(t)\n",
    "plt.plot(x, y)\n",
    "plt.xlabel(\"x\")\n",
    "plt.ylabel(\"y\")\n",
    "plt.grid(True)"
   ]
  },
  {
   "cell_type": "code",
   "execution_count": null,
   "metadata": {},
   "outputs": [],
   "source": [
    "x = np.linspace(-5, 5, 100)\n",
    "y = 1 / x\n",
    "plt.plot(x, y)\n",
    "plt.xlabel(\"x\")\n",
    "plt.ylabel(\"y\")\n",
    "plt.grid(True)"
   ]
  },
  {
   "cell_type": "markdown",
   "metadata": {},
   "source": [
    "### 4. Задание (на листочке)\n",
    "**1) Пусть задана плоскость:**\n",
    "\n",
    "$$Ax + By + Cz + D = 0$$\n",
    "\n",
    "Напишите уравнение плоскости, параллельной данной и проходящей через начало координат.\n"
   ]
  },
  {
   "cell_type": "markdown",
   "metadata": {},
   "source": [
    "#### Решение:"
   ]
  },
  {
   "cell_type": "markdown",
   "metadata": {},
   "source": [
    "Заданная точка K имеет координаты (0, 0, 0)\n",
    "\n",
    "Нормальный вектор исходной плоскости имеет координаты $$\\overrightarrow{n} = (A, B, C)$$\n",
    "\n",
    "Принимаем нормальный вектор исходной плоскости за нормальный вектор плоскости, параллельной данной\n",
    "\n",
    "Записываем уравнение плоскости, параллельной исходной, зная заданную точку и нормальный вектор\n",
    "\n",
    "$$A(x - 0) + B(y - 0) + C(z - 0) = 0 \\implies Ax + By + Cz = 0$$\n"
   ]
  },
  {
   "cell_type": "markdown",
   "metadata": {},
   "source": [
    "**2)  Пусть задана плоскость:** $$A_1x + B_1y + C_1z + D_1 = 0$$ **и прямая:**\n",
    "\n",
    "$$\\frac{x - x_1}{x_2 - x_1}=\\frac{y - y_1}{y_2 - y_1}=\\frac{z - z_1}{z_2 - z_1}$$\n",
    "\n",
    "Как узнать, принадлежит прямая плоскости или нет?\n"
   ]
  },
  {
   "cell_type": "markdown",
   "metadata": {},
   "source": [
    "#### Решение:"
   ]
  },
  {
   "cell_type": "markdown",
   "metadata": {},
   "source": [
    "Прямая лежит в плоскости, если любая ее точка соответствует уравнению плоскости"
   ]
  },
  {
   "cell_type": "markdown",
   "metadata": {},
   "source": [
    "Можно найти направляющий вектор: $$\\overrightarrow{p}=(x_2 - x_1, y_2 - y_1, z_2 - z_1)$$\n",
    "\n",
    "Вектор нормали плоскости: $$\\overrightarrow{n}=(A_1, B_1, C_1)$$\n",
    "\n",
    "И точку, принадлежащую прямой: $$(x_1, y_1, z_1)$$\n",
    "\n",
    "Чтобы прямая лежала в плоскости или была параллельна ей - скалярное произведение должно быть равно нулю:\n",
    "\n",
    "$$\\overrightarrow{n}*\\overrightarrow{p}=0 \\implies A_1(x_2-x_1) + B_1(y_2-y_1) + C_1(z_2-z_1)=0$$\n",
    "\n",
    "Чтобы прямая лежала в плоскости, нужно, чтобы приведенное выше уравнение выполнялось вместе с решением уравнения плоскости:\n",
    "\n",
    "$$\\begin{cases}\n",
    "A_1(x_2-x_1) + B_1(y_2-y_1) + C_1(z_2-z_1)=0 \\\\\n",
    "A_1x_1 + B_1y_1 + C_1z_1 + D_1 = 0\n",
    "\\end{cases}$$"
   ]
  },
  {
   "cell_type": "markdown",
   "metadata": {},
   "source": [
    "## Практическое задание к уроку \"Графики на плоскости\""
   ]
  },
  {
   "cell_type": "markdown",
   "metadata": {},
   "source": [
    "### Задание 1\n",
    "\n",
    "Нарисуйте график функции:\n",
    "$$y(x)=kcos(x-a)+b$$\n",
    "для некоторых (2-3 различных) значений параметров k, a, b"
   ]
  },
  {
   "cell_type": "code",
   "execution_count": null,
   "metadata": {},
   "outputs": [],
   "source": [
    "x = np.linspace(-5, 5, 100)\n",
    "k = [12, -3, 12]\n",
    "a = [8, 16, -2]\n",
    "b = [-3, 5, 24]\n",
    "\n",
    "for i in range(0, 3):\n",
    "    y = k[i]*np.cos(x - a[i]) + b[i]\n",
    "    plt.plot(x, y)\n",
    "    plt.grid(True)"
   ]
  },
  {
   "cell_type": "markdown",
   "metadata": {},
   "source": [
    "### Задание 2\n",
    "Докажите, что при ортогональном преобразовании сохраняется расстояние между точками.\n"
   ]
  },
  {
   "cell_type": "markdown",
   "metadata": {},
   "source": [
    "Формулы ортогонального преобразования\n",
    "$$X=a_{11} x+a_{12} y+a_{13}$$\n",
    "$$Y=a_{21} x+a_{22} y+a_{23}$$\n",
    "\n",
    "$$\n",
    "\\begin{cases}\n",
    "X=(x-a)cos\\alpha - (y - b)sin\\alpha \\\\\n",
    "Y=-(x-a)sin\\alpha + (y - b)cos\\alpha\n",
    "\\end{cases}\n",
    "\\implies\n",
    "$$\n",
    "$$\n",
    "\\begin{cases}\n",
    "X=(x-x_0-a)cos\\alpha - (y-y_0 - b)sin\\alpha \\\\\n",
    "Y=-(x-x_0-a)sin\\alpha + (y-y_0 - b)cos\\alpha\n",
    "\\end{cases}\n",
    "\\implies\n",
    "$$\n",
    "$$\n",
    "\\begin{cases}\n",
    "X=xcos\\alpha-x_0cos\\alpha-acos\\alpha - ysin\\alpha + y_0sin\\alpha + bsin\\alpha \\\\\n",
    "Y=-xsin\\alpha+x_0sin\\alpha+asin\\alpha + ycos\\alpha-y_0cos\\alpha - bcos\\alpha\n",
    "\\end{cases}\n",
    "\\implies\n",
    "$$\n",
    "$$\n",
    "\\begin{cases}\n",
    "X=xcos\\alpha - ysin\\alpha - x_0cos\\alpha + y_0sin\\alpha + bsin\\alpha - acos\\alpha \\\\\n",
    "Y=-xsin\\alpha + ycos\\alpha + x_0sin\\alpha - y_0cos\\alpha - bcos\\alpha + asin\\alpha\n",
    "\\end{cases}\n",
    "\\implies\n",
    "$$\n",
    "$$\n",
    "\\begin{vmatrix}\n",
    "xcos\\alpha & -ysin\\alpha \\\\\n",
    "-xsin\\alpha & ycos\\alpha\n",
    "\\end{vmatrix}\n",
    "$$\n",
    "\n",
    "Убедимся, что преобразование является ортогональным\n",
    "\n",
    "$$\n",
    "\\begin{cases}\n",
    "cos^2\\alpha + sin^2\\alpha = 1 \\\\\n",
    "sin^2\\alpha + cos^2\\alpha = 1 \\\\\n",
    "-cos\\alpha sin\\alpha + sin\\alpha cos\\alpha = 0 \\\\\n",
    "\\Delta=cos^2a - sin^2a=cos^2a-sin^2a \\neq 0 \\\\\n",
    "\\end{cases}\n",
    "$$"
   ]
  },
  {
   "cell_type": "markdown",
   "metadata": {},
   "source": [
    "### 3. Задание\n",
    "\n",
    "#### Напишите код, который будет переводить полярные координаты в декартовы."
   ]
  },
  {
   "cell_type": "markdown",
   "metadata": {},
   "source": [
    "Полярная система координат:\n",
    "$$x = R cos\\alpha$$\n",
    "$$y = R sin\\alpha$$"
   ]
  },
  {
   "cell_type": "code",
   "execution_count": null,
   "metadata": {},
   "outputs": [],
   "source": [
    "def polar_to_decard(r, alpha):\n",
    "    if r < 0:\n",
    "        raise Exception(\"R should be >= 0\")\n",
    "    if alpha <= 0 or alpha >= 2*np.pi:\n",
    "        raise Exception(\"alpha should be between 0 and 2pi\")\n",
    "    x = r * np.cos(alpha)\n",
    "    y = r * np.sin(alpha)\n",
    "    return x, y\n",
    "\n",
    "polar_to_decard(2, 1.3*np.pi)"
   ]
  },
  {
   "cell_type": "markdown",
   "metadata": {},
   "source": [
    "#### Напишите код, который будет рисовать график окружности в полярных координатах."
   ]
  },
  {
   "cell_type": "markdown",
   "metadata": {},
   "source": [
    "График окружности: \n",
    "$$x^2 + y^2 = b$$\n",
    "Выразим x и y через полярную систему координат:\n",
    "$$r^2cos^2\\alpha + r^2sin^2\\alpha = b \\implies r = b$$ "
   ]
  },
  {
   "cell_type": "code",
   "execution_count": null,
   "metadata": {},
   "outputs": [],
   "source": [
    "def circle_plot_polar(radius, is_polar_system=False):\n",
    "    a = np.linspace(0, 2*np.pi, 1000)\n",
    "    r = radius\n",
    "    x = r*np.cos(a)\n",
    "    y = r*np.sin(a)\n",
    "    if is_polar_system:\n",
    "        plt.subplot(111, polar=True)\n",
    "    plt.plot(x, y)\n",
    "    plt.grid(True)\n",
    "\n",
    "circle_plot_polar(5, is_polar_system=True)"
   ]
  },
  {
   "cell_type": "code",
   "execution_count": null,
   "metadata": {},
   "outputs": [],
   "source": [
    "# В декартвых координатах для проверки\n",
    "circle_plot_polar(12)"
   ]
  },
  {
   "cell_type": "markdown",
   "metadata": {},
   "source": [
    "#### Напишите код, который будет рисовать график отрезка прямой линии в полярных координатах.\n"
   ]
  },
  {
   "cell_type": "code",
   "execution_count": null,
   "metadata": {},
   "outputs": [],
   "source": [
    "def line_plot_polar(x1, y1, x2, y2, is_polar_system=False):\n",
    "    x = np.linspace(x1, x2, 100)\n",
    "    y = np.linspace(y1, y2, 100)\n",
    "    if is_polar_system:\n",
    "        plt.subplot(111, polar=True)\n",
    "    plt.plot(x, y)\n",
    "    plt.grid(True)\n",
    "\n",
    "line_plot_polar(-5, -5, 10, 15, is_polar_system=True)"
   ]
  },
  {
   "cell_type": "code",
   "execution_count": null,
   "metadata": {},
   "outputs": [],
   "source": [
    "# В декартовых координатах для проверки\n",
    "line_plot_polar(-5, -5, 10, 15)"
   ]
  },
  {
   "cell_type": "markdown",
   "metadata": {},
   "source": [
    "### 4. Задание (в программе)\n",
    "\n",
    "Решите систему уравнений:\n",
    "$$\n",
    "\\begin{cases}\n",
    "y = x^2 - 1 \\\\\n",
    "exp(x) + x(1 - y) = 1\n",
    "\\end{cases}\n",
    "$$\n"
   ]
  },
  {
   "cell_type": "code",
   "execution_count": null,
   "metadata": {},
   "outputs": [],
   "source": [
    "from scipy.optimize import fsolve"
   ]
  },
  {
   "cell_type": "code",
   "execution_count": null,
   "metadata": {},
   "outputs": [],
   "source": [
    "def equations(p):\n",
    "    x, y = p\n",
    "    return y - x**2 + 1, np.exp(x) + x - x*y - 1"
   ]
  },
  {
   "cell_type": "code",
   "execution_count": null,
   "metadata": {},
   "outputs": [],
   "source": [
    "x = np.linspace(-2, 5, 300)\n",
    "plt.plot(x, x**2 - 1)\n",
    "plt.plot(x, (np.exp(x) + x - 1) / x)\n",
    "plt.grid(True)"
   ]
  },
  {
   "cell_type": "code",
   "execution_count": null,
   "metadata": {},
   "outputs": [],
   "source": [
    "x1, y1 = fsolve(equations, (-2, 1))\n",
    "(x1, y1)"
   ]
  },
  {
   "cell_type": "code",
   "execution_count": null,
   "metadata": {},
   "outputs": [],
   "source": [
    "x2, y2 = fsolve(equations, (2, 5))\n",
    "(x2, y2)"
   ]
  },
  {
   "cell_type": "code",
   "execution_count": null,
   "metadata": {},
   "outputs": [],
   "source": [
    "x3, y3 = fsolve(equations, (10, 11))\n",
    "(x3, y3)"
   ]
  },
  {
   "cell_type": "markdown",
   "metadata": {},
   "source": [
    "Решите систему уравнений и неравенств:\n",
    "$$\n",
    "\\begin{cases}\n",
    "y = x^2 - 1 \\\\\n",
    "exp(x) + x(1 - y) > 1\n",
    "\\end{cases}\n",
    "$$\n"
   ]
  },
  {
   "cell_type": "markdown",
   "metadata": {},
   "source": [
    "1 неравенство\n",
    "$$x<0 \\implies y >(x + e^x - 1)/x$$\n",
    "2 неравенство\n",
    "$$x>0 \\implies y < (x + e^x - 1)/x$$\n",
    "\n",
    "Не смог решить"
   ]
  }
 ],
 "metadata": {
  "kernelspec": {
   "display_name": "Python 3",
   "language": "python",
   "name": "python3"
  },
  "language_info": {
   "codemirror_mode": {
    "name": "ipython",
    "version": 3
   },
   "file_extension": ".py",
   "mimetype": "text/x-python",
   "name": "python",
   "nbconvert_exporter": "python",
   "pygments_lexer": "ipython3",
   "version": "3.7.3"
  }
 },
 "nbformat": 4,
 "nbformat_minor": 4
}
