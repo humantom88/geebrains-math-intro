{
 "cells": [
  {
   "cell_type": "markdown",
   "metadata": {},
   "source": [
    "### Практические задания к уроку “Элементы теории вероятностей”"
   ]
  },
  {
   "cell_type": "markdown",
   "metadata": {},
   "source": [
    "### Задание 1 \n",
    "Напишите код, моделирующий выпадение поля в рулетке (с учетом поля зеро)."
   ]
  },
  {
   "cell_type": "markdown",
   "metadata": {},
   "source": [
    "#### Решение:"
   ]
  },
  {
   "cell_type": "code",
   "execution_count": 2,
   "metadata": {},
   "outputs": [
    {
     "data": {
      "text/plain": [
       "4"
      ]
     },
     "execution_count": 2,
     "metadata": {},
     "output_type": "execute_result"
    }
   ],
   "source": [
    "import numpy as np\n",
    "\n",
    "round(np.random.uniform(0, 36))"
   ]
  },
  {
   "cell_type": "markdown",
   "metadata": {},
   "source": [
    "### Задание 2\n",
    "\n",
    "1) Напишите код, проверяющий любую из теорем сложения или умножения вероятности на примере рулетки или подбрасывания монетки.\n",
    "\n"
   ]
  },
  {
   "cell_type": "markdown",
   "metadata": {},
   "source": [
    "#### Решение:"
   ]
  },
  {
   "cell_type": "code",
   "execution_count": 11,
   "metadata": {},
   "outputs": [
    {
     "name": "stdout",
     "output_type": "stream",
     "text": [
      "0.9999999999999991\n"
     ]
    }
   ],
   "source": [
    "result = {}\n",
    "for i in range(0, 1000):\n",
    "    x = round(np.random.uniform(0, 36))\n",
    "    result[x] = result[x] + 1 if x in result else 0\n",
    "    \n",
    "p_sum = 0\n",
    "for key in result.keys():\n",
    "    p_sum += 1 / len(result.keys())\n",
    "    \n",
    "print(p_sum)\n",
    "    "
   ]
  },
  {
   "cell_type": "markdown",
   "metadata": {},
   "source": [
    "2) Сгенерируйте десять выборок случайных чисел х0, …, х9. И постройте гистограмму распределения случайной суммы х0+х1+ …+ х9\n",
    "\n",
    "#### Решение:"
   ]
  },
  {
   "cell_type": "code",
   "execution_count": 26,
   "metadata": {},
   "outputs": [
    {
     "data": {
      "text/plain": [
       "Text(0.5, 1.0, 'Histogram')"
      ]
     },
     "execution_count": 26,
     "metadata": {},
     "output_type": "execute_result"
    },
    {
     "data": {
      "image/png": "[encoded data removed]",
      "text/plain": [
       "<Figure size 432x288 with 1 Axes>"
      ]
     },
     "metadata": {
      "needs_background": "light"
     },
     "output_type": "display_data"
    }
   ],
   "source": [
    "from matplotlib import pyplot as plt\n",
    "\n",
    "result = []\n",
    "\n",
    "for i in range(0, 9):\n",
    "    result += [np.sum(np.random.rand(370))]\n",
    "    \n",
    "plt.hist(result, 5)\n",
    "plt.xlabel(\"x\")\n",
    "plt.ylabel(\"Probability\")\n",
    "plt.title(\"Histogram\")"
   ]
  },
  {
   "cell_type": "markdown",
   "metadata": {},
   "source": [
    "### Задание 3\n",
    "Дополните код Монте-Карло последовательности независимых испытаний расчетом соответствующих вероятностей (через биномиальное распределение) \n",
    "и сравните результаты.\n",
    "Повторите расчеты биномиальных коэффициентов и вероятностей k успехов в последовательности из n независимых испытаний, взяв другие значения n и k.\n"
   ]
  },
  {
   "cell_type": "markdown",
   "metadata": {},
   "source": [
    "#### Решение:"
   ]
  },
  {
   "cell_type": "code",
   "execution_count": 64,
   "metadata": {},
   "outputs": [
    {
     "name": "stdout",
     "output_type": "stream",
     "text": [
      "0.3333333333333333\n",
      "0.120849609375\n"
     ]
    }
   ],
   "source": [
    "import itertools\n",
    "\n",
    "k, n = 0, 12\n",
    "a = np.random.randint(0, 2, n)\n",
    "b = np.random.randint(0, 2, n)\n",
    "c = np.random.randint(0, 2, n)\n",
    "d = np.random.randint(0, 2, n)\n",
    "\n",
    "x = a + b + c + d\n",
    "for i in range(0, n):\n",
    "    if x[i] % 2 == 0:\n",
    "        k = k + 1\n",
    "\n",
    "cnk = np.math.factorial(n) / (np.math.factorial(n - k) * np.math.factorial(k))\n",
    "pnk = cnk * 1/(2**n)\n",
    "\n",
    "print(k/n)\n",
    "print(pnk)"
   ]
  },
  {
   "cell_type": "markdown",
   "metadata": {},
   "source": [
    "### Задание 4\n",
    "Из урока по комбинаторике повторите расчеты, сгенерировав возможные варианты перестановок для других значений n и k\n"
   ]
  },
  {
   "cell_type": "markdown",
   "metadata": {},
   "source": [
    "#### Решение:"
   ]
  },
  {
   "cell_type": "markdown",
   "metadata": {},
   "source": [
    "### Задание 5"
   ]
  },
  {
   "cell_type": "markdown",
   "metadata": {},
   "source": [
    "Дополните код расчетом коэффициента корреляции x и y по формуле"
   ]
  },
  {
   "cell_type": "markdown",
   "metadata": {},
   "source": [
    "#### Решение:"
   ]
  },
  {
   "cell_type": "code",
   "execution_count": null,
   "metadata": {},
   "outputs": [],
   "source": []
  }
 ],
 "metadata": {
  "kernelspec": {
   "display_name": "Python 3",
   "language": "python",
   "name": "python3"
  },
  "language_info": {
   "codemirror_mode": {
    "name": "ipython",
    "version": 3
   },
   "file_extension": ".py",
   "mimetype": "text/x-python",
   "name": "python",
   "nbconvert_exporter": "python",
   "pygments_lexer": "ipython3",
   "version": "3.7.3"
  }
 },
 "nbformat": 4,
 "nbformat_minor": 4
}
