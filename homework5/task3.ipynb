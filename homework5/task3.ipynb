{
 "cells": [
  {
   "cell_type": "markdown",
   "metadata": {},
   "source": [
    "## Задание 3"
   ]
  },
  {
   "cell_type": "code",
   "execution_count": 15,
   "metadata": {},
   "outputs": [],
   "source": [
    "import numpy as np\n",
    "import math\n",
    "import itertools"
   ]
  },
  {
   "cell_type": "code",
   "execution_count": 16,
   "metadata": {},
   "outputs": [
    {
     "name": "stdout",
     "output_type": "stream",
     "text": [
      "37229 100000 0.37229\n"
     ]
    }
   ],
   "source": [
    "\n",
    "i = 0 # Счетчик \n",
    "r = 100000 # Количество повторов эксперимента\n",
    "k = 2 # Интересующее нас количество исходов\n",
    "n = 4 # Количество независимых событий\n",
    "\n",
    "a = np.random.randint(0, 2, r)\n",
    "b = np.random.randint(0, 2, r)\n",
    "c = np.random.randint(0, 2, r)\n",
    "d = np.random.randint(0, 2, r)\n",
    "x = a + b + c + d\n",
    "for el in x:    \n",
    "    if el == k:\n",
    "        i += 1\n",
    "print(i, r, i/r)"
   ]
  },
  {
   "cell_type": "code",
   "execution_count": 17,
   "metadata": {},
   "outputs": [
    {
     "data": {
      "text/plain": [
       "0.375"
      ]
     },
     "execution_count": 17,
     "metadata": {},
     "output_type": "execute_result"
    }
   ],
   "source": [
    "c = (math.factorial(n) / (math.factorial(k) * math.factorial(n - k)))\n",
    "P = c * 1/2**n\n",
    "P"
   ]
  },
  {
   "cell_type": "code",
   "execution_count": null,
   "metadata": {},
   "outputs": [],
   "source": []
  }
 ],
 "metadata": {
  "kernelspec": {
   "display_name": "Python 3",
   "language": "python",
   "name": "python3"
  },
  "language_info": {
   "codemirror_mode": {
    "name": "ipython",
    "version": 3
   },
   "file_extension": ".py",
   "mimetype": "text/x-python",
   "name": "python",
   "nbconvert_exporter": "python",
   "pygments_lexer": "ipython3",
   "version": "3.7.3"
  }
 },
 "nbformat": 4,
 "nbformat_minor": 2
}
